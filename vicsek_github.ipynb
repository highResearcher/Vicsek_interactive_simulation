{
  "cells": [
    {
      "cell_type": "markdown",
      "metadata": {
        "id": "view-in-github",
        "colab_type": "text"
      },
      "source": [
        "<a href=\"https://colab.research.google.com/github/highResearcher/Vicsek_interactive_simulation/blob/main/vicsek_github.ipynb\" target=\"_parent\"><img src=\"https://colab.research.google.com/assets/colab-badge.svg\" alt=\"Open In Colab\"/></a>"
      ]
    },
    {
      "cell_type": "code",
      "execution_count": null,
      "metadata": {
        "id": "EatT3BIuVURY"
      },
      "outputs": [],
      "source": [
        "import numpy as np\n",
        "import matplotlib.pyplot as plt\n",
        "from matplotlib.animation import FuncAnimation\n",
        "plt.rcParams[\"animation.html\"] = \"jshtml\"\n",
        "from ipywidgets import interact, IntSlider, FloatSlider\n",
        "\n",
        "\n",
        "\n",
        "def simulate_vicsek(box_length,rho,v,eta,steps):\n",
        "  #parameters\n",
        "  box_length=10.0 #length of the box\n",
        "  n_particles=int(rho*box_length*box_length)\n",
        "  r_int=1.0 #neighborhood radius\n",
        "\n",
        "  #initialisation of positions and angles\n",
        "  x_arr=np.zeros((steps,n_particles))\n",
        "  y_arr=np.zeros((steps,n_particles))\n",
        "  theta_arr=np.zeros((steps,n_particles))\n",
        "\n",
        "  x_arr[0]=np.random.rand((n_particles))*box_length\n",
        "  y_arr[0]=np.random.rand((n_particles))*box_length\n",
        "  theta_arr[0]=np.random.rand((n_particles))*2.0*np.pi\n",
        "\n",
        "  #evolution\n",
        "  for time in range(1,steps):\n",
        "    cos_thetas=np.zeros(n_particles)\n",
        "    sin_thetas=np.zeros(n_particles)\n",
        "    counter=np.zeros(n_particles)\n",
        "\n",
        "    #theta update\n",
        "    for i in range(n_particles):\n",
        "      for j in range(n_particles):\n",
        "        x_sepn=x_arr[time-1,i]-x_arr[time-1,j]\n",
        "        y_sepn=y_arr[time-1,i]-y_arr[time-1,j]\n",
        "\n",
        "        #min image convention\n",
        "        x_sepn -= box_length* np.round(x_sepn/ box_length)\n",
        "        y_sepn -= box_length* np.round(y_sepn/ box_length)\n",
        "\n",
        "        sepn_sq=(x_sepn)**2 + (y_sepn)**2 #distance between the two particles\n",
        "        if (sepn_sq<= r_int**2):\n",
        "          cos_thetas[i]+= np.cos(theta_arr[time-1,j])\n",
        "          sin_thetas[i]+= np.sin(theta_arr[time-1,j])\n",
        "          counter[i]+= 1\n",
        "\n",
        "    theta_arr[time]=np.atan2(sin_thetas,cos_thetas)+ (np.random.rand(n_particles)-0.5)*eta\n",
        "\n",
        "    #position update\n",
        "    x_arr[time]=x_arr[time-1]+ v*np.cos(theta_arr[time])\n",
        "    y_arr[time]=y_arr[time-1]+ v*np.sin(theta_arr[time])\n",
        "    #pbc\n",
        "    for i in range(n_particles):\n",
        "      if x_arr[time,i]> box_length: x_arr[time,i]= x_arr[time,i]-box_length\n",
        "      if x_arr[time,i]< 0.0: x_arr[time,i]= x_arr[time,i]+ box_length\n",
        "      if y_arr[time,i]> box_length: y_arr[time,i]= y_arr[time,i]-box_length\n",
        "      if y_arr[time,i]< 0.0: y_arr[time,i]= y_arr[time,i]+ box_length\n",
        "\n",
        "  return x_arr,y_arr,theta_arr\n",
        "\n",
        "\n",
        "\n",
        "def vicsek(box_length=10.0,rho=0.9,v=0.02,eta=0.3,steps=1000):\n",
        "  x,y,theta= simulate_vicsek(box_length=box_length,rho=rho,v=v,eta=eta,steps=steps)  #animation using func animation\n",
        "  #define a figure first\n",
        "  fig, ax= plt.subplots()\n",
        "  ax.set_xlim([0,box_length])\n",
        "  ax.set_ylim([0,box_length])\n",
        "  ax.axis('square')\n",
        "  line = ax.quiver(x[0],y[0],np.cos(theta[0]),np.sin(theta[0]),width=0.003)\n",
        "\n",
        "  #update frame function\n",
        "  def update_frame(i):\n",
        "    line.set_offsets(np.c_[x[i],y[i]])\n",
        "    line.set_UVC(np.cos(theta[i]),np.sin(theta[i]))\n",
        "    return line,\n",
        "\n",
        "  #final animation\n",
        "  anim= FuncAnimation(fig,update_frame,frames=np.arange(0,steps,10),interval=50,blit=True)\n",
        "  plt.close(fig)\n",
        "  # show the plot\n",
        "  return anim\n",
        "\n",
        "\n",
        "interact(\n",
        "    vicsek,\n",
        "    box_length=FloatSlider(min=5, max=20, step=1, value=10, description=\"Box size\"),\n",
        "    rho=FloatSlider(min=0.0,max=5.0,step=0.1,value=0.9,description='density'),\n",
        "    v=FloatSlider(min=0.01, max=0.2, step=0.01, value=0.02, description=\"Speed\"),\n",
        "    eta=FloatSlider(min=0.0, max=6.28, step=0.1, value=0.1, description=\"Noise\"),\n",
        "    steps=IntSlider(min=50, max=5000, step=50, value=1000, description=\"Steps\"),\n",
        ")"
      ]
    },
    {
      "cell_type": "code",
      "execution_count": null,
      "metadata": {
        "id": "zQOOY8_qGcPz"
      },
      "outputs": [],
      "source": []
    }
  ],
  "metadata": {
    "colab": {
      "provenance": [],
      "authorship_tag": "ABX9TyNqx1pp/hqacQ8lFraDexud",
      "include_colab_link": true
    },
    "kernelspec": {
      "display_name": "Python 3",
      "name": "python3"
    },
    "language_info": {
      "name": "python"
    }
  },
  "nbformat": 4,
  "nbformat_minor": 0
}